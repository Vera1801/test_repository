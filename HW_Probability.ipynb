{
 "cells": [
  {
   "cell_type": "markdown",
   "metadata": {},
   "source": [
    "P(A)=M/N\n",
    "\n",
    "P(A)=количество успехов/количество опытов"
   ]
  },
  {
   "cell_type": "markdown",
   "metadata": {},
   "source": [
    "Домашнее задание к лекции.\n",
    "http://prntscr.com/uh35yg\n",
    "\n",
    "Смоделировать игру против лотерейного автомата типа “777”. Игрок платит 1 руб., после чего выпадает случайное целое число, равномерно распределенное от 0 до 999. При некоторых значениях числа игрок получает выигрыш (см. справа)\n",
    "\n",
    "Выгодна ли игра игроку?\n",
    "\n",
    "Сколько в среднем приобретает\n",
    "или теряет игрок за одну игру?\n",
    "\n",
    "777: 200 руб.\n",
    "999: 100 руб.\n",
    "555: 50 руб.\n",
    "333: 15 руб.\n",
    "111: 10 руб.\n",
    "*77: 5 руб.\n",
    "**7: 3 руб.\n",
    "*00: 2 руб.\n",
    "**0: 1 руб.\n",
    "\n",
    "– любая цифра\n",
    "Дополнительное задание повышенной сложности. Теоретически рассчитать средний выигрыш (проигрыш) и сравнить с результатами моделирования\n",
    "\n"
   ]
  },
  {
   "cell_type": "code",
   "execution_count": 48,
   "metadata": {},
   "outputs": [
    {
     "data": {
      "text/plain": [
       "0.7999999999999999"
      ]
     },
     "execution_count": 48,
     "metadata": {},
     "output_type": "execute_result"
    }
   ],
   "source": [
    "p_math=1/1000*(200+100+50+15+10)+9/1000*(5)+90/1000*(3)+10/1000*(2)+90/1000*(1)\n",
    "p_math"
   ]
  },
  {
   "cell_type": "code",
   "execution_count": 5,
   "metadata": {},
   "outputs": [],
   "source": [
    "import pandas as pd\n",
    "import numpy as np"
   ]
  },
  {
   "cell_type": "code",
   "execution_count": 53,
   "metadata": {
    "scrolled": false
   },
   "outputs": [
    {
     "name": "stdout",
     "output_type": "stream",
     "text": [
      "При 1000 играх:\n",
      "Математическая модель:\n",
      " Cредний выигрыш за одну игру составит 0.7999999999999999\n",
      " Общий выигрыш составит -200.00000000000006\n",
      "Практическая модель:\n",
      " Cредний выигрыш за одну игру составит 1.485\n",
      " Общий выигрыш составит 485.0000000000001\n"
     ]
    }
   ],
   "source": [
    "trials = 1000    # Количество попыток\n",
    "successes = 0    # Количество успехов\n",
    "balance = 0\n",
    "\n",
    "for i in range(trials):\n",
    "    balance = balance-1\n",
    "    random_score = np.random.randint(0,1000)    \n",
    "    if random_score ==777:\n",
    "        successes += 200\n",
    "        balance +=200\n",
    "    elif random_score ==999:   \n",
    "        successes += 100\n",
    "        balance +=100\n",
    "    elif random_score ==555:   \n",
    "        successes += 50\n",
    "        balance +=50   \n",
    "    elif random_score ==333:   \n",
    "        successes += 15\n",
    "        balance +=15     \n",
    "    elif random_score ==111:   \n",
    "        successes += 10\n",
    "        balance +=10    \n",
    "    elif random_score %100==77:   \n",
    "        successes += 5\n",
    "        balance += 5     \n",
    "    elif random_score %10==7:   \n",
    "        successes += 3\n",
    "        balance += 3               \n",
    "    elif random_score %100==0:   \n",
    "        successes += 2\n",
    "        balance += 2    \n",
    "    elif random_score %10==0:   \n",
    "        successes += 1\n",
    "        balance += 1  \n",
    "    else: \n",
    "        successes += 0\n",
    "        balance +=0\n",
    "        \n",
    "win_math=1/1000*(200+100+50+15+10)+9/1000*(5)+90/1000*(3)+10/1000*(2)+90/1000*(1)\n",
    "win_model=successes/trials\n",
    "balance_math=(win_math-1)*trials\n",
    "balance_model=(win_model-1)*trials\n",
    "print(\"При {} играх:\".format(trials))\n",
    "print(\"Математическая модель:\\n Cредний выигрыш за одну игру составит {}\\n Общий выигрыш составит {}\".format(win_math,balance_math))\n",
    "print(\"Практическая модель:\\n Cредний выигрыш за одну игру составит {}\\n Общий выигрыш составит {}\".format(win_model,balance_model))"
   ]
  },
  {
   "cell_type": "code",
   "execution_count": 37,
   "metadata": {},
   "outputs": [],
   "source": [
    "p_math=1/1000*(200+100+50+15+10)+10/1000*(5)+100/1000*(3)+10/1000*(2)+100/1000*(1)"
   ]
  }
 ],
 "metadata": {
  "kernelspec": {
   "display_name": "Python 3",
   "language": "python",
   "name": "python3"
  },
  "language_info": {
   "codemirror_mode": {
    "name": "ipython",
    "version": 3
   },
   "file_extension": ".py",
   "mimetype": "text/x-python",
   "name": "python",
   "nbconvert_exporter": "python",
   "pygments_lexer": "ipython3",
   "version": "3.8.5"
  }
 },
 "nbformat": 4,
 "nbformat_minor": 4
}
