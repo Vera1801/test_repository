{
 "cells": [
  {
   "cell_type": "markdown",
   "metadata": {},
   "source": [
    "phrase_1<br>\n",
    "phrase_2<br>\n",
    "len()<br>\n",
    "print <br>\n",
    "\n",
    "phrase_1 = 'Насколько проще было бы писать программы, если бы не заказчики’<br>\n",
    "phrase_2 = '640Кб должно хватить для любых задач. Билл Гейтс (по легенде)'"
   ]
  },
  {
   "cell_type": "code",
   "execution_count": 12,
   "metadata": {},
   "outputs": [
    {
     "name": "stdout",
     "output_type": "stream",
     "text": [
      "Фраза 1 длиннее, чем Фраза 2\n"
     ]
    }
   ],
   "source": [
    "phrase_1 = 'Насколько проще было бы писать программы, если бы не заказчики'\n",
    "phrase_2 = '640Кб должно хватить для любых задач. Билл Гейтс (по легенде)'\n",
    "a = len(phrase_1)\n",
    "b = len(phrase_2)\n",
    "if a > b:\n",
    "    print('Фраза 1 длиннее, чем Фраза 2')\n",
    "elif b > a:\n",
    "    print('Фраза 2 длиннее, чем Фраза 1')\n",
    "else:\n",
    "    print('Фраза 1 и Фраза 2 одинаковой длины')\n"
   ]
  },
  {
   "cell_type": "code",
   "execution_count": 14,
   "metadata": {},
   "outputs": [
    {
     "name": "stdout",
     "output_type": "stream",
     "text": [
      "Фраза 2 длиннее, чем Фраза 1\n"
     ]
    }
   ],
   "source": [
    "phrase_1 = '640Кб должно хватить для любых задач. Билл Гейтс (по легенде)'\n",
    "phrase_2 = 'Насколько проще было бы писать программы, если бы не заказчики'\n",
    "a = len(phrase_1)\n",
    "b = len(phrase_2)\n",
    "if a > b:\n",
    "    print('Фраза 1 длиннее, чем Фраза 2')\n",
    "elif b > a:\n",
    "    print('Фраза 2 длиннее, чем Фраза 1')\n",
    "else:\n",
    "    print('Фраза 1 и Фраза 2 одинаковой длины')"
   ]
  },
  {
   "cell_type": "code",
   "execution_count": 15,
   "metadata": {},
   "outputs": [
    {
     "name": "stdout",
     "output_type": "stream",
     "text": [
      "Фраза 1 и Фраза 2 одинаковой длины\n"
     ]
    }
   ],
   "source": [
    "phrase_1 = 'Насколько проще было бы писать программы, если бы не заказчики'\n",
    "phrase_2 = 'Насколько проще было бы писать программы, если бы не заказчики'\n",
    "a = len(phrase_1)\n",
    "b = len(phrase_2)\n",
    "if a > b:\n",
    "    print('Фраза 1 длиннее, чем Фраза 2')\n",
    "elif b > a:\n",
    "    print('Фраза 2 длиннее, чем Фраза 1')\n",
    "else:\n",
    "    print('Фраза 1 и Фраза 2 одинаковой длины')\n"
   ]
  },
  {
   "cell_type": "markdown",
   "metadata": {},
   "source": [
    "Дана переменная, в которой хранится четырехзначное число (год). Необходимо написать программу, которая выведет, является ли данный год високосным или обычным.\n",
    "\n",
    "Пример работы программы:\n",
    "\n",
    "year = 2020\n",
    "Результат:\n",
    "Високосный год\n",
    "\n",
    "year = 2019\n",
    "Результат:\n",
    "Обычный год"
   ]
  },
  {
   "cell_type": "code",
   "execution_count": 19,
   "metadata": {
    "scrolled": true
   },
   "outputs": [
    {
     "name": "stdout",
     "output_type": "stream",
     "text": [
      "2020\n",
      "високосный год\n"
     ]
    }
   ],
   "source": [
    "year = int(input())\n",
    "if (year %4==0):\n",
    "     print ('високосный год')\n",
    "else:\n",
    "     print ('не високосный год')\n",
    "        "
   ]
  },
  {
   "cell_type": "markdown",
   "metadata": {},
   "source": [
    "Необходимо написать программу, которая будет запрашивать у пользователя месяц и дату рождения и выводить соответствующий знак зодиака.\n",
    "\n",
    "Пример работы программы:\n",
    "\n",
    "Введите день:\n",
    "30\n",
    "\n",
    "Введите месяц:\n",
    "Август\n",
    "Результат:\n",
    "Ваш знак зодиака: Дева\n",
    "\n",
    "Введите день:\n",
    "29\n",
    "\n",
    "Введите месяц:\n",
    "Октябрь\n",
    "Результат:\n",
    "Ваш знак зодиака: Скорпион"
   ]
  },
  {
   "cell_type": "code",
   "execution_count": 34,
   "metadata": {},
   "outputs": [
    {
     "name": "stdout",
     "output_type": "stream",
     "text": [
      "Введите день:18\n",
      "Введите месяц:Январь\n",
      "Ваш знак зодиака: Козерог\n"
     ]
    }
   ],
   "source": [
    "day = int(input('Введите день:'))\n",
    "month = input('Введите месяц:')\n",
    "if (day>= 21 and month=='Март') or (day<= 19 and month=='Апрель'):\n",
    "    print ('Ваш знак зодиака: Овен')\n",
    "elif (day>= 20 and month=='Апрель') or (day<= 20 and month=='Май'):\n",
    "    print ('Ваш знак зодиака: Телец')\n",
    "elif (day>= 21 and month=='Май') or (day<= 20 and month=='Июнь'):\n",
    "    print ('Ваш знак зодиака: Близнецы')\n",
    "elif (day>= 21 and month=='Июня') or (day<= 22 and month=='Июль'):\n",
    "    print ('Ваш знак зодиака: Рак')\n",
    "elif (day>= 23 and month=='Июля') or (day<= 22 and month=='Август'):\n",
    "    print ('Ваш знак зодиака: Лев')\n",
    "elif (day>= 23 and month=='Август') or (day<= 22 and month=='Сентябрь'):\n",
    "    print ('Ваш знак зодиака: Дева')\n",
    "elif (day>= 23 and month=='Сентябрь') or (day<= 22 and month=='Октябрь'):\n",
    "    print ('Ваш знак зодиака: Весы')\n",
    "elif (day>= 23 and month=='Октябрь') or (day<= 21 and month=='Ноябрь'):\n",
    "    print ('Ваш знак зодиака: Скорпион')\n",
    "elif (day>= 22 and month=='Ноябрь') or (day<= 21 and month=='Декабрь'):\n",
    "    print ('Ваш знак зодиака: Стрелец')\n",
    "elif (day>= 22 and month=='Декабрь') or (day<= 19 and month=='Январь'):\n",
    "    print ('Ваш знак зодиака: Козерог')\n",
    "elif (day>= 20 and month=='Январь') or (day<= 18 and month=='Февраль'):\n",
    "    print ('Ваш знак зодиака: Водолей')\n",
    "elif (day>= 19 and month=='Февраля') or (day<= 20 and month=='Март'):\n",
    "    print ('Ваш знак зодиака: Рыбы')"
   ]
  },
  {
   "cell_type": "markdown",
   "metadata": {},
   "source": [
    "Вам нужно написать программу для подбора упаковок по размерам товара. Размеры хранятся в переменных (в сантиметрах):\n",
    "\n",
    "width = 10\n",
    "length = 205\n",
    "height = 5\n",
    "Используйте следующие правила:\n",
    "\n",
    "если каждое из трех измерений менее 15 сантиметров, то выведите на экран “Коробка №1”;\n",
    "если хотя бы одно из измерений больше 15 сантиметров, но менее 50 сантиметров, то выводите “Коробка №2”;\n",
    "если длина товара больше 2 метров, то выводите “Упаковка для лыж”;\n",
    "во всех остальных случаях выводите “Стандартная коробка №3”.складывать, если сумма измерений >=\n",
    "\n",
    "int input введите ширину\n",
    "int input введите высоту\n",
    "int input введите длину\n",
    "if max(a,b,c)<15:\n",
    "    print ('Коробка №1')\n",
    "elif max (a,b,c)<50:\n",
    "    print ('Упаковка для лыж')\n",
    "else print (Стандартная коробка №3')"
   ]
  },
  {
   "cell_type": "code",
   "execution_count": 31,
   "metadata": {},
   "outputs": [
    {
     "name": "stdout",
     "output_type": "stream",
     "text": [
      "введите ширину100\n",
      "введите длину100\n",
      "введите высоту100\n",
      "Стандартная коробка №3\n"
     ]
    }
   ],
   "source": [
    "width = int(input('введите ширину'))\n",
    "length = int(input('введите длину'))\n",
    "height = int(input('введите высоту'))\n",
    "if max(width, length, height)<15:\n",
    "    print('Коробка №1')\n",
    "elif max (width, length, height)<50:\n",
    "    print('Коробка №2')\n",
    "elif length > 200:    \n",
    "    print ('Упаковка для лыж')\n",
    "else: \n",
    "    print ('Стандартная коробка №3')"
   ]
  },
  {
   "cell_type": "code",
   "execution_count": null,
   "metadata": {},
   "outputs": [],
   "source": []
  },
  {
   "cell_type": "code",
   "execution_count": null,
   "metadata": {},
   "outputs": [],
   "source": []
  }
 ],
 "metadata": {
  "kernelspec": {
   "display_name": "Python 3",
   "language": "python",
   "name": "python3"
  },
  "language_info": {
   "codemirror_mode": {
    "name": "ipython",
    "version": 3
   },
   "file_extension": ".py",
   "mimetype": "text/x-python",
   "name": "python",
   "nbconvert_exporter": "python",
   "pygments_lexer": "ipython3",
   "version": "3.8.5"
  }
 },
 "nbformat": 4,
 "nbformat_minor": 4
}
