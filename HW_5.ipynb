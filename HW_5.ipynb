{
 "cells": [
  {
   "cell_type": "markdown",
   "metadata": {},
   "source": [
    "Переведите содержимое файла purchase_log.txt в словарь purchases вида:\n",
    "{‘1840e0b9d4’: ‘Продукты’, …}\n",
    "\n",
    "Для каждого user_id в файле visit_log.csv определите третий столбец с категорией покупки (если покупка была, сам файл visit_log.csv изменять не надо). Запишите в файл funnel.csv визиты из файла visit_log.csv, в которых были покупки с указанием категории.\n",
    "Учтите условия на данные:\n",
    "содержимое purchase_log.txt помещается в оперативную память компьютера\n",
    "содержимое visit_log.csv - нет; используйте только построчную обработку этого файла"
   ]
  },
  {
   "cell_type": "code",
   "execution_count": 1,
   "metadata": {},
   "outputs": [],
   "source": [
    "f=open(\"/Users/vera/Desktop/HW_5/Downloads/purchase_log.txt\")\n"
   ]
  },
  {
   "cell_type": "code",
   "execution_count": 2,
   "metadata": {},
   "outputs": [
    {
     "data": {
      "text/plain": [
       "<_io.TextIOWrapper name='/Users/vera/Desktop/HW_5/Downloads/purchase_log.txt' mode='r' encoding='UTF-8'>"
      ]
     },
     "execution_count": 2,
     "metadata": {},
     "output_type": "execute_result"
    }
   ],
   "source": [
    "f\n"
   ]
  },
  {
   "cell_type": "code",
   "execution_count": 3,
   "metadata": {},
   "outputs": [
    {
     "data": {
      "text/plain": [
       "'{\"user_id\": \"user_id\", \"category\": \"category\"}\\n'"
      ]
     },
     "execution_count": 3,
     "metadata": {},
     "output_type": "execute_result"
    }
   ],
   "source": [
    "f.readline()"
   ]
  },
  {
   "cell_type": "code",
   "execution_count": 4,
   "metadata": {},
   "outputs": [
    {
     "data": {
      "text/plain": [
       "'{\"user_id\": \"1840e0b9d4\", \"category\": \"Продукты\"}\\n'"
      ]
     },
     "execution_count": 4,
     "metadata": {},
     "output_type": "execute_result"
    }
   ],
   "source": [
    "f.readline()"
   ]
  },
  {
   "cell_type": "code",
   "execution_count": 14,
   "metadata": {},
   "outputs": [],
   "source": [
    "a_dictionary = {}\n",
    "a_file = open(\"/Users/vera/Desktop/HW_5/Downloads/purchase_log.txt\")\n",
    "a_file.readline()\n",
    "for line in a_file:\n",
    "    a=line.split('\"')\n",
    "    key, value = a[3],a[7]\n",
    "    a_dictionary[key]=value"
   ]
  },
  {
   "cell_type": "code",
   "execution_count": 23,
   "metadata": {},
   "outputs": [
    {
     "data": {
      "text/plain": [
       "'user_id,source\\n'"
      ]
     },
     "execution_count": 23,
     "metadata": {},
     "output_type": "execute_result"
    }
   ],
   "source": [
    "b_file=open(\"/Users/vera/Desktop/HW_5/Downloads/visit_log.csv\")\n",
    "b_file.readline()"
   ]
  },
  {
   "cell_type": "code",
   "execution_count": 26,
   "metadata": {},
   "outputs": [
    {
     "data": {
      "text/plain": [
       "'0e37347152'"
      ]
     },
     "execution_count": 26,
     "metadata": {},
     "output_type": "execute_result"
    }
   ],
   "source": [
    "b_file.readline().strip().split(\",\")[0]"
   ]
  },
  {
   "cell_type": "code",
   "execution_count": 31,
   "metadata": {},
   "outputs": [],
   "source": [
    " # только ID, совершившие покупку (join SQL)\n",
    "with open(\"/Users/vera/Desktop/HW_5/Downloads/visit_log.csv\",\"r\") as f:\n",
    "    with open(\"/Users/vera/Desktop/HW_5/Downloads/funnel.csv\",\"w\") as f1:\n",
    "        f.readline()\n",
    "        f1.write(\"user_id,source,category\\n\")\n",
    "        for line in f:\n",
    "            b=f.readline().strip().split(\",\")\n",
    "            try: \n",
    "                s=a_dictionary[b[0]]\n",
    "                b.append(s)\n",
    "                b1=\",\".join(b)\n",
    "                b1=b1+\"\\n\"\n",
    "                f1.write(b1)\n",
    "            except KeyError:\n",
    "                continue\n",
    "   "
   ]
  },
  {
   "cell_type": "code",
   "execution_count": 36,
   "metadata": {},
   "outputs": [],
   "source": [
    "f2=open(\"/Users/vera/Desktop/HW_5/Downloads/funnel.csv\")\n"
   ]
  },
  {
   "cell_type": "code",
   "execution_count": 48,
   "metadata": {},
   "outputs": [],
   "source": [
    "# все посещения и покупки, если покупки не было, то будет пустое значение\n",
    "with open(\"/Users/vera/Desktop/HW_5/Downloads/visit_log.csv\",\"r\") as f:\n",
    "    with open(\"/Users/vera/Desktop/HW_5/Downloads/funnel.csv\",\"w\") as f1:\n",
    "        f.readline()\n",
    "        f1.write(\"user_id,source,category\\n\")\n",
    "        for line in f:\n",
    "            b=f.readline().strip().split(\",\")\n",
    "            try: \n",
    "                s=a_dictionary[b[0]]\n",
    "                b.append(s)\n",
    "                b1=\",\".join(b)\n",
    "                b1=b1+\"\\n\"\n",
    "                f1.write(b1)\n",
    "            except KeyError:\n",
    "                b1=\",\".join(b)\n",
    "                b1=b1+\",\"+\"\\n\"\n",
    "                f1.write(b1)"
   ]
  },
  {
   "cell_type": "code",
   "execution_count": 40,
   "metadata": {},
   "outputs": [],
   "source": [
    "b_file=open(\"/Users/vera/Desktop/HW_5/Downloads/visit_log.csv\")"
   ]
  }
 ],
 "metadata": {
  "kernelspec": {
   "display_name": "Python 3",
   "language": "python",
   "name": "python3"
  },
  "language_info": {
   "codemirror_mode": {
    "name": "ipython",
    "version": 3
   },
   "file_extension": ".py",
   "mimetype": "text/x-python",
   "name": "python",
   "nbconvert_exporter": "python",
   "pygments_lexer": "ipython3",
   "version": "3.8.5"
  }
 },
 "nbformat": 4,
 "nbformat_minor": 4
}
