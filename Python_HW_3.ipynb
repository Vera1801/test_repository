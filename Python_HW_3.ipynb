{
 "cells": [
  {
   "cell_type": "markdown",
   "metadata": {},
   "source": [
    "**Домашнее задание к лекции “Введение в типы данных и циклы. Часть 2”\n",
    "\n",
    "Задание 1\n",
    "Дана переменная, в которой хранится словарь, содержащий гео-метки для каждого пользователя (пример структуры данных приведен ниже). Вам необходимо написать программу, которая выведет на экран множество уникальных гео-меток всех пользователей.\n",
    "\n",
    "Пример работы программы:\n",
    "\n",
    "ids = {‘user1’: [213, 213, 213, 15, 213],\n",
    "‘user2’: [54, 54, 119, 119, 119],\n",
    "‘user3’: [213, 98, 98, 35]}\n",
    "Результат: {98, 35, 15, 213, 54, 119}\n",
    "\n",
    "Задание 2\n",
    "Дана переменная, в которой хранится список поисковых запросов пользователя (пример структуры данных приведен ниже). Вам необходимо написать программу, которая выведет на экран распределение количества слов в запросах в требуемом виде.\n",
    "\n",
    "Пример работы программы:\n",
    "\n",
    "queries = [\n",
    "‘смотреть сериалы онлайн’,\n",
    "‘новости спорта’,\n",
    "‘афиша кино’,\n",
    "‘курс доллара’,\n",
    "‘сериалы этим летом’,\n",
    "‘курс по питону’,\n",
    "‘сериалы про спорт’,\n",
    "]\n",
    "Результат:\n",
    "\n",
    "Поисковых запросов, содержащих 2 слов(а): 42.86%\n",
    "Поисковых запросов, содержащих 3 слов(а): 57.14%\n",
    "\n",
    "Задание 3\n",
    "Дана переменная, в которой хранится информация о затратах и доходе рекламных кампаний по различным источникам. Необходимо дополнить исходную структуру показателем ROI, который рассчитаем по формуле: (revenue / cost - 1) * 100\n",
    "\n",
    "Пример работы программы:\n",
    "\n",
    "results = {\n",
    "‘vk’: {‘revenue’: 103, ‘cost’: 98},\n",
    "‘yandex’: {‘revenue’: 179, ‘cost’: 153},\n",
    "‘facebook’: {‘revenue’: 103, ‘cost’: 110},\n",
    "‘adwords’: {‘revenue’: 35, ‘cost’: 34},\n",
    "‘twitter’: {‘revenue’: 11, ‘cost’: 24},\n",
    "}\n",
    "Результат:\n",
    "\n",
    "{‘adwords’: {‘ROI’: 2.94, ‘cost’: 34, ‘revenue’: 35},\n",
    "‘facebook’: {‘ROI’: -6.36, ‘cost’: 110, ‘revenue’: 103},\n",
    "‘twitter’: {‘ROI’: -54.17, ‘cost’: 24, ‘revenue’: 11},\n",
    "‘vk’: {‘ROI’: 5.1, ‘cost’: 98, ‘revenue’: 103},\n",
    "‘yandex’: {‘ROI’: 16.99, ‘cost’: 153, ‘revenue’: 179}}\n",
    "\n",
    "Задание 4\n",
    "Дана переменная, в которой хранится статистика рекламных каналов по объемам продаж (пример структуры данных приведен ниже). Напишите программу, которая возвращает название канала с максимальным объемом продаж.\n",
    "\n",
    "Пример работы программы:\n",
    "\n",
    "stats = {‘facebook’: 55, ‘yandex’: 115, ‘vk’: 120, ‘google’: 99, ‘email’: 42, ‘ok’: 98}\n",
    "\n",
    "Результат: Максимальный объем продаж на рекламном канале: vk"
   ]
  },
  {
   "cell_type": "code",
   "execution_count": 12,
   "metadata": {},
   "outputs": [
    {
     "name": "stdout",
     "output_type": "stream",
     "text": [
      "Результат: {98, 35, 15, 213, 54, 119}\n"
     ]
    }
   ],
   "source": [
    "ids = {\"user1\": [213, 213, 213, 15, 213], \n",
    "       \"user2\": [54, 54, 119, 119, 119], \n",
    "       \"user3\": [213, 98, 98, 35]} \n",
    "#Результат: {98, 35, 15, 213, 54, 119}\n",
    "\n",
    "t=list(ids.values())\n",
    "flat_list = []\n",
    "for sublist in t:\n",
    "    for item in sublist:\n",
    "        flat_list.append(item)\n",
    "flat_list\n",
    "myset = set(flat_list)\n",
    "print(\"Результат: \"+str(myset))"
   ]
  },
  {
   "cell_type": "code",
   "execution_count": 43,
   "metadata": {},
   "outputs": [
    {
     "name": "stdout",
     "output_type": "stream",
     "text": [
      "[3, 2, 2, 2, 3, 3, 3]\n",
      "[2, 3]\n",
      "Поисковых запросов, содержащих 2 слов(а):42.86%\n",
      "Поисковых запросов, содержащих 3 слов(а):57.14%\n"
     ]
    }
   ],
   "source": [
    "queries = [\"смотреть сериалы онлайн\", \"новости спорта\", \"афиша кино\", \"курс доллара\",\n",
    "           \"сериалы этим летом\", \"курс по питону\", \"сериалы про спорт\"] \n",
    "#Результат:\n",
    "\n",
    "#Поисковых запросов, содержащих 2 слов(а): 42.86% Поисковых запросов, содержащих 3 слов(а): 57.14%\n",
    "\n",
    "\n",
    "queries = [\"смотреть сериалы онлайн\", \"новости спорта\", \"афиша кино\", \"курс доллара\",\n",
    "           \"сериалы этим летом\", \"курс по питону\", \"сериалы про спорт\"]\n",
    "queries_list=[]\n",
    "for item in queries:    \n",
    "    queries_list.append(len(item.split()))\n",
    "print(queries_list)\n",
    "queries_list_unique=list(set(queries_list))\n",
    "print(queries_list_unique)\n",
    "for item in queries_list_unique:\n",
    "    queries_list.count(item)\n",
    "    print(\"Поисковых запросов, содержащих \"+str(item)+\" слов(а):\"+str(round(queries_list.count(item)/len(queries_list)*100,2))+\"%\")"
   ]
  },
  {
   "cell_type": "code",
   "execution_count": 21,
   "metadata": {},
   "outputs": [
    {
     "data": {
      "text/plain": [
       "{'adwords': {'revenue': 35, 'cost': 34, 'ROI': 2.94},\n",
       " 'facebook': {'revenue': 103, 'cost': 110, 'ROI': -6.36},\n",
       " 'twitter': {'revenue': 11, 'cost': 24, 'ROI': -54.17},\n",
       " 'vk': {'revenue': 103, 'cost': 98, 'ROI': 5.1},\n",
       " 'yandex': {'revenue': 179, 'cost': 153, 'ROI': 16.99}}"
      ]
     },
     "execution_count": 21,
     "metadata": {},
     "output_type": "execute_result"
    }
   ],
   "source": [
    "results = { \n",
    "    \"vk\": {\"revenue\": 103, \"cost\": 98}, \n",
    "    \"yandex\": {\"revenue\": 179, \"cost\": 153}, \n",
    "    \"facebook\": {\"revenue\": 103, \"cost\": 110}, \n",
    "    \"adwords\": {\"revenue\": 35, \"cost\": 34}, \n",
    "    \"twitter\": {\"revenue\": 11, \"cost\": 24} }\n",
    "k_list=[]\n",
    "v_list=[]\n",
    "for k, v in results.items():\n",
    "    v['ROI'] = round((v[\"revenue\"]/v[\"cost\"]-1)*100,2)\n",
    "dict(sorted(results.items()))\n",
    "\n"
   ]
  },
  {
   "cell_type": "code",
   "execution_count": 38,
   "metadata": {},
   "outputs": [
    {
     "name": "stdout",
     "output_type": "stream",
     "text": [
      "Максимальный объем продаж на рекламном канале: vk\n"
     ]
    }
   ],
   "source": [
    "stats = {\n",
    "    \"facebook\": 55, \n",
    "    \"yandex\": 115, \n",
    "    \"vk\": 120, \n",
    "    \"google\": 99, \n",
    "    \"email\": 42, \n",
    "    \"ok\": 98}\n",
    "max_val = max(stats,key=stats.get)\n",
    "print(\"Максимальный объем продаж на рекламном канале: \"+(max_val))"
   ]
  }
 ],
 "metadata": {
  "kernelspec": {
   "display_name": "Python 3",
   "language": "python",
   "name": "python3"
  },
  "language_info": {
   "codemirror_mode": {
    "name": "ipython",
    "version": 3
   },
   "file_extension": ".py",
   "mimetype": "text/x-python",
   "name": "python",
   "nbconvert_exporter": "python",
   "pygments_lexer": "ipython3",
   "version": "3.8.5"
  }
 },
 "nbformat": 4,
 "nbformat_minor": 4
}
